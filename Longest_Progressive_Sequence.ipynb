{
  "nbformat": 4,
  "nbformat_minor": 0,
  "metadata": {
    "kernelspec": {
      "display_name": "Python 3",
      "language": "python",
      "name": "python3"
    },
    "language_info": {
      "codemirror_mode": {
        "name": "ipython",
        "version": 3
      },
      "file_extension": ".py",
      "mimetype": "text/x-python",
      "name": "python",
      "nbconvert_exporter": "python",
      "pygments_lexer": "ipython3",
      "version": "3.7.6"
    },
    "colab": {
      "name": "Longest Progressive Sequence.ipynb",
      "provenance": [],
      "collapsed_sections": [],
      "include_colab_link": true
    }
  },
  "cells": [
    {
      "cell_type": "markdown",
      "metadata": {
        "id": "view-in-github",
        "colab_type": "text"
      },
      "source": [
        "<a href=\"https://colab.research.google.com/github/haneeshav04/Problem-Solving/blob/master/Longest_Progressive_Sequence.ipynb\" target=\"_parent\"><img src=\"https://colab.research.google.com/assets/colab-badge.svg\" alt=\"Open In Colab\"/></a>"
      ]
    },
    {
      "cell_type": "markdown",
      "metadata": {
        "id": "80CiuwaYlvvj",
        "colab_type": "text"
      },
      "source": [
        "Problem Statement:\n",
        "\n",
        "A sequence is said to be progressive if it doesn’t decrease at any point in time. For example, 1 1 2 2 is a progressive sequence but 1 2 1 is not a progressive sequence. Let S be the sequence and be represented by L spaced integers Ki, now your task is to find out the first longest progressive sequence present in the given sequence (S).\n",
        "\n",
        "Input Format:\n",
        "\n",
        "First line will contain T, the length of the sequence and next line will contain T spaced integers Ki (where i = 0,1, …,L).\n",
        "\n",
        "Line 1 T, where T is the length of the sequence\n",
        "\n",
        "Line 2 Ki, where Ki is integer in sequence separated by space\n",
        "\n",
        "Constraints:\n",
        "\n",
        "1<=T<=10^6(one million)\n",
        "\n",
        "1<=Ki<=10^9(one billion)\n",
        "\n",
        "Output Format:\n",
        "\n",
        "Line 1 longest progressive sequence present in the given sequence\n",
        "\n",
        "Sample Test Cases:\n",
        "\n",
        "Input: \n",
        "\n",
        "4\n",
        "\n",
        "1 1 2 1\n",
        "\n",
        "Output:\n",
        "\n",
        "1 1 2\n",
        "\n",
        "Input:\n",
        "\n",
        "5\n",
        "\n",
        "1 2 1 2 2 \n",
        "\n",
        "Output:\n",
        "\n",
        "1 2 2\n"
      ]
    },
    {
      "cell_type": "code",
      "metadata": {
        "id": "L0vra6OOlqGl",
        "colab_type": "code",
        "colab": {},
        "outputId": "738ab88c-d7dd-4a47-d833-8f892631e384"
      },
      "source": [
        "n=int(input())\n",
        "a=[]\n",
        "for i in range(0,n):\n",
        "    k=int(input())\n",
        "    a.append(k)\n",
        "    \n",
        "longest_group=[]\n",
        "i=0\n",
        "while i<n:\n",
        "    group=[a[i]]\n",
        "    for j in range(i+1,n):\n",
        "        if a[j]>=a[j-1]:\n",
        "            group.append(a[j])\n",
        "        else:\n",
        "            break\n",
        "    if len(group)>len(longest_group):\n",
        "        longest_group=group\n",
        "    i+=j\n",
        "for i in longest_group:\n",
        "    print(i,end=\" \")"
      ],
      "execution_count": null,
      "outputs": [
        {
          "output_type": "stream",
          "text": [
            "11\n",
            "1\n",
            "2\n",
            "3\n",
            "2\n",
            "3\n",
            "4\n",
            "4\n",
            "6\n",
            "3\n",
            "4\n",
            "6\n",
            "2 3 4 4 6 "
          ],
          "name": "stdout"
        }
      ]
    },
    {
      "cell_type": "code",
      "metadata": {
        "id": "-KSTMWFAlqHq",
        "colab_type": "code",
        "colab": {}
      },
      "source": [
        ""
      ],
      "execution_count": null,
      "outputs": []
    }
  ]
}