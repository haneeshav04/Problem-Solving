{
  "nbformat": 4,
  "nbformat_minor": 0,
  "metadata": {
    "colab": {
      "name": "Distribute Books.ipynb",
      "provenance": [],
      "collapsed_sections": [],
      "authorship_tag": "ABX9TyOeOl45FV5jVgen2iTBh82g",
      "include_colab_link": true
    },
    "kernelspec": {
      "name": "python3",
      "display_name": "Python 3"
    }
  },
  "cells": [
    {
      "cell_type": "markdown",
      "metadata": {
        "id": "view-in-github",
        "colab_type": "text"
      },
      "source": [
        "<a href=\"https://colab.research.google.com/github/haneeshav04/Problem-Solving/blob/master/Distribute_Books.ipynb\" target=\"_parent\"><img src=\"https://colab.research.google.com/assets/colab-badge.svg\" alt=\"Open In Colab\"/></a>"
      ]
    },
    {
      "cell_type": "markdown",
      "metadata": {
        "id": "r35VM7ilsVYJ",
        "colab_type": "text"
      },
      "source": [
        "Problem Statement:\n",
        "\n",
        "For enhancing the book reading, school distributed story books to students as part of the Children’s day celebrations. To increase the reading habit, the class teacher decided to exchange the books every week so that everyone will have a different book to read. She wants to know how many possible exchanges are possible. If they have 4 books and students, the possible exchanges are 9. Bi is the book of i-th student and after the exchange he should get a different book, other than Bi.\n",
        "\n",
        "B1 B2 B3 B4 – first state, before exchange of the books\n",
        "\n",
        "B2 B1 B4 B3\n",
        "\n",
        "B2 B3 B4 B1\n",
        "\n",
        "B2 B4 B1 B3\n",
        "\n",
        "B3 B1 B4 B2\n",
        "\n",
        "B3 B4 B1 B2\n",
        "\n",
        "B3 B4 B2 B1\n",
        "\n",
        "B4 B1 B2 B3\n",
        "\n",
        "B4 B3 B1 B2\n",
        "\n",
        "B4 B3 B2 B1\n",
        "\n",
        "Find the number of possible exchanges, if the books are exchanged so that every student will receive a different book.\n",
        "\n",
        "Input Format:\n",
        "\n",
        "Input contains one line with N, indicates the number of books and number of \n",
        "students.\n",
        "\n",
        "Constraints:\n",
        "\n",
        "1<= N <= 1000000\n",
        "\n",
        "Output Format:\n",
        "\n",
        "Output the answer modulo 1000000007.\n",
        "\n",
        "Sample Test Cases:\n",
        "\n",
        "Input:\n",
        "\n",
        "4\n",
        "\n",
        "Output:\n",
        "\n",
        "9\n"
      ]
    },
    {
      "cell_type": "code",
      "metadata": {
        "id": "l8vOfRfkrxwy",
        "colab_type": "code",
        "colab": {}
      },
      "source": [
        "#include<stdio.h>\n",
        "long long int subFactorial(int n)\n",
        "{\n",
        "\tlong long int m=1000000007;\n",
        "\tif(n==1)\n",
        "\t\treturn 0;\n",
        "\tif(n==2)\n",
        "\t\treturn 1;\n",
        "\treturn ((n-1)%m)*(subFactorial(n-1)%m+subFactorial(n-2)%m)%m;\n",
        "}\n",
        "int main()\n",
        "{\n",
        "\tint n;\n",
        "\tscanf(\"%d\",&n);\n",
        "\tprintf(\"%d\",subFactorial(n));\n",
        "\treturn 0;\n",
        "}"
      ],
      "execution_count": null,
      "outputs": []
    }
  ]
}