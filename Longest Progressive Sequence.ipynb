{
 "cells": [
  {
   "cell_type": "code",
   "execution_count": 6,
   "metadata": {},
   "outputs": [
    {
     "name": "stdout",
     "output_type": "stream",
     "text": [
      "11\n",
      "1\n",
      "2\n",
      "3\n",
      "2\n",
      "3\n",
      "4\n",
      "4\n",
      "6\n",
      "3\n",
      "4\n",
      "6\n",
      "2 3 4 4 6 "
     ]
    }
   ],
   "source": [
    "n=int(input())\n",
    "a=[]\n",
    "for i in range(0,n):\n",
    "    k=int(input())\n",
    "    a.append(k)\n",
    "    \n",
    "longest_group=[]\n",
    "i=0\n",
    "while i<n:\n",
    "    group=[a[i]]\n",
    "    for j in range(i+1,n):\n",
    "        if a[j]>=a[j-1]:\n",
    "            group.append(a[j])\n",
    "        else:\n",
    "            break\n",
    "    if len(group)>len(longest_group):\n",
    "        longest_group=group\n",
    "    i+=j\n",
    "for i in longest_group:\n",
    "    print(i,end=\" \")"
   ]
  },
  {
   "cell_type": "code",
   "execution_count": null,
   "metadata": {},
   "outputs": [],
   "source": []
  }
 ],
 "metadata": {
  "kernelspec": {
   "display_name": "Python 3",
   "language": "python",
   "name": "python3"
  },
  "language_info": {
   "codemirror_mode": {
    "name": "ipython",
    "version": 3
   },
   "file_extension": ".py",
   "mimetype": "text/x-python",
   "name": "python",
   "nbconvert_exporter": "python",
   "pygments_lexer": "ipython3",
   "version": "3.7.6"
  }
 },
 "nbformat": 4,
 "nbformat_minor": 4
}
